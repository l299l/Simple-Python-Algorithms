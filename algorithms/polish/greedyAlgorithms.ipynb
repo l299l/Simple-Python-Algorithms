{
 "cells": [
  {
   "cell_type": "markdown",
   "metadata": {
    "collapsed": true,
    "pycharm": {
     "name": "#%% md\n"
    }
   },
   "source": [
    "# Algorytmy zachłanne (Greedy Algorithms)\n",
    "Algorytmy zachłanne **O(n<sup>2</sup>)** pozwalają rozwiązywać problemy NP-zupełne, czyli takie które nie mają szzbkiego rozwiązania, można je rozpoznać gdy:\n",
    " - algorytm działa szybko przy niewielkiej liczbie elementów i radykalnie zwalnia przy większej liczbie elementów\n",
    " - wymaga \"wszystkich kombinacji X\"\n",
    " - musisz obliczyć \"wszystkie możliwe wersje X\", ponieważ nie da się podzielić problemu na mniejsze części\n",
    " - problem można przedstawić jako problem pokrycia zbioru\n",
    "<br>\n",
    "<p>Algorytmy zachłanne polegają na wybieraniu zawsze najlepszego elementu.<br>\n",
    "Poniżej przedstawiłem przykład rozwiązania zadania przedstawionego jako problem pokrycia zbiorów.</p>"
   ],
   "outputs": [],
   "execution_count": 1
  },
  {
   "cell_type": "code",
   "execution_count": 7,
   "outputs": [
    {
     "name": "stdout",
     "output_type": "stream",
     "text": [
      "We want to have all of this colors: {'gray', 'silver', 'blue', 'red', 'black', 'green'} with as little use of the sets({'favorite': {'red', 'brown', 'black', 'gold'}, 'girls': {'pink', 'purple', 'red', 'black'}, 'boys': {'gray', 'blue', 'orange', 'black', 'green'}, 'nice': {'gray', 'marine', 'orange', 'gold', 'yellow', 'silver'}, 'main': {'white', 'blue', 'red', 'black', 'green'}}) as possible.\n"
     ]
    }
   ],
   "source": [
    "colors_needed = {\"red\", \"green\", \"blue\", \"black\", \"gray\", \"silver\"}\n",
    "\n",
    "colors_sets = {\"favorite\": {\"red\", \"black\", \"gold\", \"brown\"}, \"girls\": {\"pink\", \"purple\", \"black\", \"red\"}, \"boys\": {\"green\", \"black\", \"orange\", \"gray\", \"blue\"}, \"nice\": {\"yellow\", \"silver\", \"gold\", \"orange\", \"marine\", \"gray\"},\n",
    "            \"main\": {\"white\", \"black\", \"green\", \"red\", \"blue\"}}\n",
    "\n",
    "print(f\"We want to have all of this colors: {colors_needed} with as little use of the sets({colors_sets}) as possible.\")"
   ],
   "metadata": {
    "collapsed": false,
    "pycharm": {
     "name": "#%%\n"
    }
   }
  },
  {
   "cell_type": "code",
   "execution_count": 8,
   "outputs": [
    {
     "name": "stdout",
     "output_type": "stream",
     "text": [
      "{'nice', 'boys', 'favorite'}\n"
     ]
    }
   ],
   "source": [
    "final_sets = set()\n",
    "\n",
    "while colors_needed:\n",
    "    best_set = None\n",
    "    colors_covered = set()\n",
    "\n",
    "    for set_of_colors, colors_for_set in colors_sets.items():\n",
    "        covered = colors_needed & colors_for_set\n",
    "        if len(covered) > len(colors_covered):\n",
    "            best_set = set_of_colors\n",
    "            colors_covered = covered\n",
    "\n",
    "    colors_needed -= colors_covered\n",
    "    final_sets.add(best_set)\n",
    "\n",
    "print(final_sets)"
   ],
   "metadata": {
    "collapsed": false,
    "pycharm": {
     "name": "#%%\n"
    }
   }
  }
 ],
 "metadata": {
  "kernelspec": {
   "display_name": "Python 3",
   "language": "python",
   "name": "python3"
  },
  "language_info": {
   "codemirror_mode": {
    "name": "ipython",
    "version": 2
   },
   "file_extension": ".py",
   "mimetype": "text/x-python",
   "name": "python",
   "nbconvert_exporter": "python",
   "pygments_lexer": "ipython2",
   "version": "2.7.6"
  }
 },
 "nbformat": 4,
 "nbformat_minor": 0
}