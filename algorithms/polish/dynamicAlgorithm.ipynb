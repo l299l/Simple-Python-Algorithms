{
 "cells": [
  {
   "cell_type": "markdown",
   "metadata": {
    "collapsed": true,
    "pycharm": {
     "name": "#%% md\n"
    }
   },
   "source": [
    "# Programowanie dynamiczne\n",
    "umozliwia rozwiazabnie problemu plecaka, optymalizacje na podstawie określonych warónków, można je wykorzystać zawsze gdy problem można podzielić na mniejsze podproblemy.\n",
    "##### UWAGA\n",
    "nie ma jednego wzory na programowanie dynamiczne, poniżej przedstawięc wzór któ©y rozwiązuje problem plecaka"
   ]
  },
  {
   "cell_type": "code",
   "execution_count": 1,
   "outputs": [],
   "source": [
    "siatka = [[0, 0, 0, 0], [0, 0, 0, 0], [0, 0, 0, 0], [0, 0, 0, 0]]\n",
    "przedmioty = [(\"gitara\", 1, 1500), (\"stereo\", 4, 3000), (\"laptop\", 3, 2000), (\"IPhone\", 1, 2000)]\n",
    "\n",
    "for i in range(4):\n",
    "    for j in range(4):\n",
    "        actual = 0\n",
    "        if j+1 >= przedmioty[i][1]:\n",
    "            actual += przedmioty[i][2]\n",
    "        if j+1 > przedmioty[i][1] and i != 0:\n",
    "            actual += siatka[i-1][j-przedmioty[i][1]]\n",
    "        siatka[i][j] = max(siatka[i-1][j], actual)"
   ],
   "metadata": {
    "collapsed": false,
    "pycharm": {
     "name": "#%%\n"
    }
   }
  },
  {
   "cell_type": "code",
   "execution_count": 2,
   "outputs": [
    {
     "name": "stdout",
     "output_type": "stream",
     "text": [
      "[[1500, 1500, 1500, 1500], [1500, 1500, 1500, 3000], [1500, 1500, 2000, 3500], [2000, 3500, 3500, 4000]]\n"
     ]
    }
   ],
   "source": [
    "print(siatka)"
   ],
   "metadata": {
    "collapsed": false,
    "pycharm": {
     "name": "#%%\n"
    }
   }
  },
  {
   "cell_type": "code",
   "execution_count": 3,
   "outputs": [
    {
     "name": "stdout",
     "output_type": "stream",
     "text": [
      "[[1, 1, 1, 1], [1, 1, 1, 1], [1, 1, 2, 2], [1, 1, 2, 3]]\n",
      "[[1, 1, 1, 1], [1, 2, 2, 2], [1, 2, 2, 2], [1, 2, 2, 2]]\n"
     ]
    }
   ],
   "source": [
    "def compareWords(word_a, word_b):\n",
    "    siatkaC = [[0, 0, 0, 0], [0, 0, 0, 0], [0, 0, 0, 0], [0, 0, 0, 0]]\n",
    "    for i in range(4):\n",
    "        for j in range(4):\n",
    "            if word_a[i] == word_b[j]:\n",
    "                siatkaC[i][j] = siatkaC[i-1][j-1] + 1\n",
    "            else:\n",
    "                siatkaC[i][j] = max(siatkaC[i-1][j], siatkaC[i][j-1])\n",
    "    return siatkaC\n",
    "\n",
    "print(compareWords(\"fish\", \"fosh\"))\n",
    "print(compareWords(\"fort\", \"fosh\"))"
   ],
   "metadata": {
    "collapsed": false,
    "pycharm": {
     "name": "#%%\n"
    }
   }
  }
 ],
 "metadata": {
  "kernelspec": {
   "display_name": "Python 3",
   "language": "python",
   "name": "python3"
  },
  "language_info": {
   "codemirror_mode": {
    "name": "ipython",
    "version": 2
   },
   "file_extension": ".py",
   "mimetype": "text/x-python",
   "name": "python",
   "nbconvert_exporter": "python",
   "pygments_lexer": "ipython2",
   "version": "2.7.6"
  }
 },
 "nbformat": 4,
 "nbformat_minor": 0
}