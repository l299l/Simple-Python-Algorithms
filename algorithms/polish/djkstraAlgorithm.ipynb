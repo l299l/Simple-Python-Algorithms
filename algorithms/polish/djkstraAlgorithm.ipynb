{
 "cells": [
  {
   "cell_type": "markdown",
   "source": [
    "# Dijkstra Algorithm\n",
    "Algorytm służący do przeszukiwania grafów warzonych w poszukiwaniu najszybszej/najtańszej trasy aby przejść z punktu start do punktu mety. (Algorytmy str. 115)<br>\n",
    "Poniżej przedstawiłem przykładowy prosty graf ważony, jego wizualizacje oraz implementacje algorytmu dijkstra.\n",
    "### UWAGA\n",
    "Algorytm **nie działa** na grafach które zawierają cykle lub wagi ujemne"
   ],
   "metadata": {
    "collapsed": false
   }
  },
  {
   "cell_type": "code",
   "execution_count": 25,
   "outputs": [
    {
     "name": "stdout",
     "output_type": "stream",
     "text": [
      "{'start': {'a': 6, 'b': 2}, 'a': {'meta': 1}, 'b': {'a': 3, 'meta': 5}, 'meta': {}}\n"
     ]
    }
   ],
   "source": [
    "graph = {'start': {'a': 6, 'b': 2}, 'a': {'meta': 1}, 'b': {'a': 3, 'meta': 5}, 'meta': {}}\n",
    "print(graph)"
   ],
   "metadata": {
    "collapsed": false,
    "pycharm": {
     "name": "#%%\n"
    }
   }
  },
  {
   "cell_type": "code",
   "execution_count": 26,
   "outputs": [
    {
     "name": "stdout",
     "output_type": "stream",
     "text": [
      "start is connected with a, weight 6\n",
      "start is connected with b, weight 2\n",
      "a is connected with meta, weight 1\n",
      "b is connected with a, weight 3\n",
      "b is connected with meta, weight 5\n"
     ]
    },
    {
     "data": {
      "text/plain": "<Figure size 432x288 with 1 Axes>",
      "image/png": "[encoded data removed]"
     },
     "metadata": {},
     "output_type": "display_data"
    }
   ],
   "source": [
    "import networkx as nx\n",
    "import matplotlib.pyplot as plt\n",
    "\n",
    "def visualiseGraph(graph):\n",
    "    G = nx.Graph()\n",
    "    for vertex, edges in graph.items():\n",
    "        G.add_node(\"%s\" % vertex)\n",
    "        for edge, weight in edges.items():\n",
    "            G.add_node(\"%s\" % edge)\n",
    "            G.add_edge(\"%s\" % vertex, \"%s\" % edge, weight = weight)\n",
    "            print(\"%s is connected with %s, weight %s\" % (vertex,edge, weight))\n",
    "\n",
    "    # Create positions of all nodes and save them\n",
    "    pos = nx.spring_layout(G)\n",
    "\n",
    "    # Draw the graph according to node positions\n",
    "    nx.draw(G, pos, with_labels=True)\n",
    "\n",
    "    # Create edge labels\n",
    "    labels = nx.get_edge_attributes(G,'weight')\n",
    "\n",
    "    # Draw edge labels according to node positions\n",
    "    nx.draw_networkx_edge_labels(G, pos, edge_labels=labels)\n",
    "\n",
    "    plt.show()\n",
    "\n",
    "visualiseGraph(graph)"
   ],
   "metadata": {
    "collapsed": false,
    "pycharm": {
     "name": "#%%\n"
    }
   }
  },
  {
   "cell_type": "code",
   "execution_count": 27,
   "outputs": [
    {
     "name": "stdout",
     "output_type": "stream",
     "text": [
      "{'a': 6, 'b': 2, 'meta': inf}\n"
     ]
    }
   ],
   "source": [
    "infinity = float(\"inf\")\n",
    "costs = {\"a\": 6, \"b\": 2, \"meta\": infinity}\n",
    "print(costs)"
   ],
   "metadata": {
    "collapsed": false,
    "pycharm": {
     "name": "#%%\n"
    }
   }
  },
  {
   "cell_type": "code",
   "source": [
    "import pandas as pd\n",
    "def visualiseCosts():\n",
    "    Visualise = pd.DataFrame.from_dict(costs, orient='index', columns=['cost'])\n",
    "    return Visualise\n",
    "\n",
    "visualiseCosts()"
   ],
   "metadata": {
    "collapsed": false,
    "pycharm": {
     "name": "#%%\n"
    }
   },
   "execution_count": 28,
   "outputs": [
    {
     "data": {
      "text/plain": "      cost\na      6.0\nb      2.0\nmeta   inf",
      "text/html": "<div>\n<style scoped>\n    .dataframe tbody tr th:only-of-type {\n        vertical-align: middle;\n    }\n\n    .dataframe tbody tr th {\n        vertical-align: top;\n    }\n\n    .dataframe thead th {\n        text-align: right;\n    }\n</style>\n<table border=\"1\" class=\"dataframe\">\n  <thead>\n    <tr style=\"text-align: right;\">\n      <th></th>\n      <th>cost</th>\n    </tr>\n  </thead>\n  <tbody>\n    <tr>\n      <th>a</th>\n      <td>6.0</td>\n    </tr>\n    <tr>\n      <th>b</th>\n      <td>2.0</td>\n    </tr>\n    <tr>\n      <th>meta</th>\n      <td>inf</td>\n    </tr>\n  </tbody>\n</table>\n</div>"
     },
     "execution_count": 28,
     "metadata": {},
     "output_type": "execute_result"
    }
   ]
  },
  {
   "cell_type": "code",
   "execution_count": 29,
   "outputs": [
    {
     "name": "stdout",
     "output_type": "stream",
     "text": [
      "{'a': 'start', 'b': 'start', 'meta': None}\n"
     ]
    }
   ],
   "source": [
    "parents = {\"a\": \"start\", \"b\": \"start\", \"meta\": None}\n",
    "print(parents)"
   ],
   "metadata": {
    "collapsed": false,
    "pycharm": {
     "name": "#%%\n"
    }
   }
  },
  {
   "cell_type": "code",
   "execution_count": 30,
   "outputs": [
    {
     "data": {
      "text/plain": "     parent\na     start\nb     start\nmeta   None",
      "text/html": "<div>\n<style scoped>\n    .dataframe tbody tr th:only-of-type {\n        vertical-align: middle;\n    }\n\n    .dataframe tbody tr th {\n        vertical-align: top;\n    }\n\n    .dataframe thead th {\n        text-align: right;\n    }\n</style>\n<table border=\"1\" class=\"dataframe\">\n  <thead>\n    <tr style=\"text-align: right;\">\n      <th></th>\n      <th>parent</th>\n    </tr>\n  </thead>\n  <tbody>\n    <tr>\n      <th>a</th>\n      <td>start</td>\n    </tr>\n    <tr>\n      <th>b</th>\n      <td>start</td>\n    </tr>\n    <tr>\n      <th>meta</th>\n      <td>None</td>\n    </tr>\n  </tbody>\n</table>\n</div>"
     },
     "execution_count": 30,
     "metadata": {},
     "output_type": "execute_result"
    }
   ],
   "source": [
    "def visualiseParents():\n",
    "    Visualise = pd.DataFrame.from_dict(parents, orient='index', columns=['parent'])\n",
    "    return Visualise\n",
    "\n",
    "visualiseParents()"
   ],
   "metadata": {
    "collapsed": false,
    "pycharm": {
     "name": "#%%\n"
    }
   }
  },
  {
   "cell_type": "code",
   "execution_count": 31,
   "outputs": [
    {
     "name": "stdout",
     "output_type": "stream",
     "text": [
      "Ready! Lowest cost 6\n"
     ]
    },
    {
     "data": {
      "text/plain": "      cost\na        5\nb        2\nmeta     6",
      "text/html": "<div>\n<style scoped>\n    .dataframe tbody tr th:only-of-type {\n        vertical-align: middle;\n    }\n\n    .dataframe tbody tr th {\n        vertical-align: top;\n    }\n\n    .dataframe thead th {\n        text-align: right;\n    }\n</style>\n<table border=\"1\" class=\"dataframe\">\n  <thead>\n    <tr style=\"text-align: right;\">\n      <th></th>\n      <th>cost</th>\n    </tr>\n  </thead>\n  <tbody>\n    <tr>\n      <th>a</th>\n      <td>5</td>\n    </tr>\n    <tr>\n      <th>b</th>\n      <td>2</td>\n    </tr>\n    <tr>\n      <th>meta</th>\n      <td>6</td>\n    </tr>\n  </tbody>\n</table>\n</div>"
     },
     "execution_count": 31,
     "metadata": {},
     "output_type": "execute_result"
    }
   ],
   "source": [
    "def find_lowest_cost_node(costs):\n",
    "    lowest_cost = float(\"inf\")\n",
    "    lowest_cost_node = None\n",
    "    for activeNode in costs:\n",
    "        activeCost = costs[activeNode]\n",
    "        if activeCost < lowest_cost and activeNode not in processed:\n",
    "            lowest_cost = activeCost\n",
    "            lowest_cost_node = activeNode\n",
    "    return lowest_cost_node\n",
    "\n",
    "\n",
    "\n",
    "processed = []\n",
    "node = find_lowest_cost_node(costs)\n",
    "while node is not None:\n",
    "    cost = costs[node]\n",
    "    neighbors = graph[node]\n",
    "    for n in neighbors.keys():\n",
    "        new_cost = cost + neighbors[n]\n",
    "        if costs[n] > new_cost:\n",
    "            costs[n] = new_cost\n",
    "            parents[n] = node\n",
    "    processed.append(node)\n",
    "    node = find_lowest_cost_node(costs)\n",
    "print(f\"Ready! Lowest cost {costs['meta']}\")\n",
    "visualiseCosts()"
   ],
   "metadata": {
    "collapsed": false,
    "pycharm": {
     "name": "#%%\n"
    }
   }
  },
  {
   "cell_type": "markdown",
   "source": [
    "## Przykładowe zadania z OI\n",
    "- Zawody [tutaj](https://szkopul.edu.pl/problemset/problem/UiDG8sd_wsS2RfUPL3zQQ1XW/site/?key=statement)\n",
    "- Podróż\n",
    "- Przemytnicy\n",
    "- Sumy\n",
    "- Zaby(trudniejsze)\n",
    "- Korale(trudniejsze)\n"
   ],
   "metadata": {
    "collapsed": false,
    "pycharm": {
     "name": "#%% md\n"
    }
   }
  }
 ],
 "metadata": {
  "kernelspec": {
   "display_name": "Python 3",
   "language": "python",
   "name": "python3"
  },
  "language_info": {
   "codemirror_mode": {
    "name": "ipython",
    "version": 2
   },
   "file_extension": ".py",
   "mimetype": "text/x-python",
   "name": "python",
   "nbconvert_exporter": "python",
   "pygments_lexer": "ipython2",
   "version": "2.7.6"
  }
 },
 "nbformat": 4,
 "nbformat_minor": 0
}