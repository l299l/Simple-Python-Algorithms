{
 "cells": [
  {
   "cell_type": "markdown",
   "metadata": {
    "collapsed": true,
    "pycharm": {
     "name": "#%% md\n"
    }
   },
   "source": [
    "# Sumy prefiksowe (Prefix sum)\n",
    "Sumy prefixowe to prosty algorytm, który pozwoli szybko odpowiadać na pytania o sumy fragmentów tablic.\n",
    "Poniżej przedstawiłem przykładową tablice i odpowiedzenie na kilka zapytań o sumy."
   ]
  },
  {
   "cell_type": "code",
   "execution_count": 2,
   "outputs": [
    {
     "name": "stdout",
     "output_type": "stream",
     "text": [
      "[9, 5, 3, 5, 6, 5, 6, 2, 5, 4]\n",
      "[9, 14, 17, 22, 28, 33, 39, 41, 46, 50]\n"
     ]
    }
   ],
   "source": [
    "n = 10\n",
    "tab = [9, 5, 3, 5, 6, 5, 6, 2, 5, 4]\n",
    "prefix = [0] * n\n",
    "for i in range(n):\n",
    "    if i != 0:\n",
    "        prefix[i] = prefix[i - 1] + tab[i]\n",
    "    else:\n",
    "        prefix[i] = tab[i]\n",
    "print(tab)\n",
    "print(prefix)"
   ],
   "metadata": {
    "collapsed": false,
    "pycharm": {
     "name": "#%%\n"
    }
   }
  },
  {
   "cell_type": "markdown",
   "source": [
    "### Teraz weźmiemy kilka sum z przedziałów od a do b"
   ],
   "metadata": {
    "collapsed": false,
    "pycharm": {
     "name": "#%% md\n"
    }
   }
  },
  {
   "cell_type": "code",
   "execution_count": 3,
   "outputs": [
    {
     "name": "stdout",
     "output_type": "stream",
     "text": [
      "Suma elementów tablicy tab z przedziału od 3 do 5 wynosi 16\n"
     ]
    }
   ],
   "source": [
    "a = 3\n",
    "b = 5\n",
    "print(f\"Suma elementów tablicy tab z przedziału od {a} do {b} wynosi {prefix[b] -  prefix[a - 1]}\")"
   ],
   "metadata": {
    "collapsed": false,
    "pycharm": {
     "name": "#%%\n"
    }
   }
  },
  {
   "cell_type": "code",
   "execution_count": 4,
   "outputs": [
    {
     "name": "stdout",
     "output_type": "stream",
     "text": [
      "Suma elementów tablicy tab z przedziału od 2 do 9 wynosi 36\n"
     ]
    }
   ],
   "source": [
    "a = 2\n",
    "b = 9\n",
    "print(f\"Suma elementów tablicy tab z przedziału od {a} do {b} wynosi {prefix[b] -  prefix[a - 1]}\")"
   ],
   "metadata": {
    "collapsed": false,
    "pycharm": {
     "name": "#%%\n"
    }
   }
  },
  {
   "cell_type": "code",
   "execution_count": 5,
   "outputs": [
    {
     "name": "stdout",
     "output_type": "stream",
     "text": [
      "Suma wszystkich elementów tablicy wynosi 50\n"
     ]
    }
   ],
   "source": [
    "print(f\"Suma wszystkich elementów tablicy wynosi {prefix[n - 1]}\")"
   ],
   "metadata": {
    "collapsed": false,
    "pycharm": {
     "name": "#%%\n"
    }
   }
  },
  {
   "cell_type": "code",
   "execution_count": null,
   "outputs": [],
   "source": [],
   "metadata": {
    "collapsed": false,
    "pycharm": {
     "name": "#%%\n"
    }
   }
  }
 ],
 "metadata": {
  "kernelspec": {
   "display_name": "Python 3",
   "language": "python",
   "name": "python3"
  },
  "language_info": {
   "codemirror_mode": {
    "name": "ipython",
    "version": 2
   },
   "file_extension": ".py",
   "mimetype": "text/x-python",
   "name": "python",
   "nbconvert_exporter": "python",
   "pygments_lexer": "ipython2",
   "version": "2.7.6"
  }
 },
 "nbformat": 4,
 "nbformat_minor": 0
}