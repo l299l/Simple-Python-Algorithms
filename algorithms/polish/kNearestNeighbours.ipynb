{
 "cells": [
  {
   "cell_type": "markdown",
   "metadata": {
    "collapsed": true,
    "pycharm": {
     "name": "#%% md\n"
    }
   },
   "source": [
    "# K najbliższych sąsiadów (KNN)\n",
    "Algorytm ten służy do klasyfikowania różnych obiektów. Na podstawie tego algorytmu działa wiele sztucznych inteligencji służących właśnie do klasyfikowania .\n",
    "Poniżej przedstawiłem przykład dla klasyfikacji zawierającej 2 punkty odniesienia (x i y), a następnie przykład jak obliczyć jak coś jest podobne do czegoś innego."
   ]
  },
  {
   "cell_type": "code",
   "execution_count": 7,
   "outputs": [],
   "source": [
    "import matplotlib.pyplot as plt\n",
    "import numpy as np\n",
    "import math\n",
    "import pandas as pd"
   ],
   "metadata": {
    "collapsed": false,
    "pycharm": {
     "name": "#%%\n"
    }
   }
  },
  {
   "cell_type": "code",
   "execution_count": 8,
   "outputs": [
    {
     "data": {
      "text/plain": "<Figure size 432x288 with 1 Axes>",
      "image/png": "[encoded data removed]"
     },
     "metadata": {
      "needs_background": "light"
     },
     "output_type": "display_data"
    }
   ],
   "source": [
    "x1 = np.array([1, 6, 5, 7, 3, 5, 3, 2, 1, 8])\n",
    "y1 = np.array([2, 10, 3, 9, 2, 6, 4, 7, 10, 10])\n",
    "plt.scatter(x1, y1, color = 'hotpink')\n",
    "\n",
    "x2 = np.array([20, 23, 23, 25, 19, 25, 24, 21, 22, 26])\n",
    "y2 = np.array([20, 24, 29, 27, 19, 25, 29, 28, 23, 22])\n",
    "plt.scatter(x2, y2, color = '#88c999')\n",
    "\n",
    "x3 = np.array([14])\n",
    "y3 = np.array([16])\n",
    "plt.scatter(x3, y3, color = 'yellow')\n",
    "\n",
    "plt.show()"
   ],
   "metadata": {
    "collapsed": false,
    "pycharm": {
     "name": "#%%\n"
    }
   }
  },
  {
   "cell_type": "markdown",
   "source": [
    "#### Co trzeba zrobić?\n",
    "Musimy do któregoś ze zbiorów przydzielić żółtą kropkę. Trzeba będzie to obliczyć ze wzoru:\n",
    "$\\lambda = \\sqrt{(x_{1} - x_{2})^{2} + (y_{1} - y_{2})^{2}}$\n",
    "<br> Na niebiesko zaznaczyłem obiekt najbardziej podobny do środkowego."
   ],
   "metadata": {
    "collapsed": false,
    "pycharm": {
     "name": "#%% md\n"
    }
   }
  },
  {
   "cell_type": "code",
   "source": [
    "def selectRange(x1, x2, y1, y2):\n",
    "    num1 = ((abs(x1 - x2))**2)\n",
    "    num2 = ((abs(y1 - y2))**2)\n",
    "    return math.sqrt(num1 + num2)\n",
    "\n",
    "def classify():\n",
    "    nearest = (0, 0, 0, float('inf'))\n",
    "    for i in range(10):\n",
    "        rangeToGreen = selectRange(x2[i], x3[0], y2[i], y3[0])\n",
    "        rangeToPink = selectRange(x1[i], x3[0], y1[i], y3[0])\n",
    "        if rangeToGreen < rangeToPink:\n",
    "            if rangeToGreen < nearest[3]:\n",
    "                nearest = (x2[i], y2[i], \"#88c999\", rangeToGreen)\n",
    "        else:\n",
    "            if rangeToPink < nearest[3]:\n",
    "                nearest = (x1[i], y1[i], \"hotpink\", rangeToPink)\n",
    "    return nearest\n",
    "\n",
    "nearest = classify()\n",
    "print(nearest)\n",
    "plt.scatter(x1, y1, color = 'hotpink')\n",
    "plt.scatter(x2, y2, color = '#88c999')\n",
    "plt.scatter(nearest[0], nearest[1], color = 'blue')\n",
    "plt.scatter(x3, y3, color = nearest[2])\n",
    "\n",
    "plt.show()"
   ],
   "metadata": {
    "collapsed": false,
    "pycharm": {
     "name": "#%%\n"
    }
   },
   "execution_count": 9,
   "outputs": [
    {
     "name": "stdout",
     "output_type": "stream",
     "text": [
      "(19, 19, '#88c999', 5.830951894845301)\n"
     ]
    },
    {
     "data": {
      "text/plain": "<Figure size 432x288 with 1 Axes>",
      "image/png": "[encoded data removed]"
     },
     "metadata": {
      "needs_background": "light"
     },
     "output_type": "display_data"
    }
   ]
  },
  {
   "cell_type": "markdown",
   "source": [
    "##### Przykład gdy bliżej jest do różowego"
   ],
   "metadata": {
    "collapsed": false,
    "pycharm": {
     "name": "#%% md\n"
    }
   }
  },
  {
   "cell_type": "code",
   "execution_count": 10,
   "outputs": [
    {
     "name": "stdout",
     "output_type": "stream",
     "text": [
      "(8, 10, 'hotpink', 7.0710678118654755)\n"
     ]
    },
    {
     "data": {
      "text/plain": "<Figure size 432x288 with 1 Axes>",
      "image/png": "[encoded data removed]"
     },
     "metadata": {
      "needs_background": "light"
     },
     "output_type": "display_data"
    }
   ],
   "source": [
    "x3 = np.array([13])\n",
    "y3 = np.array([15])\n",
    "nearest = classify()\n",
    "print(nearest)\n",
    "plt.scatter(x1, y1, color = 'hotpink')\n",
    "plt.scatter(x2, y2, color = '#88c999')\n",
    "plt.scatter(nearest[0], nearest[1], color = 'blue')\n",
    "plt.scatter(x3, y3, color = nearest[2])\n",
    "plt.show()"
   ],
   "metadata": {
    "collapsed": false,
    "pycharm": {
     "name": "#%%\n"
    }
   }
  },
  {
   "cell_type": "markdown",
   "source": [
    "### Jak bardzo są podobne do siebie dwa obiekty?"
   ],
   "metadata": {
    "collapsed": false,
    "pycharm": {
     "name": "#%% md\n"
    }
   }
  },
  {
   "cell_type": "code",
   "execution_count": 11,
   "outputs": [
    {
     "data": {
      "text/plain": "   Leon  Michal  Andrzej\na     3       4        2\nb     4       3        5\nc     4       5        1\nd     1       1        5\ne     4       5        1",
      "text/html": "<div>\n<style scoped>\n    .dataframe tbody tr th:only-of-type {\n        vertical-align: middle;\n    }\n\n    .dataframe tbody tr th {\n        vertical-align: top;\n    }\n\n    .dataframe thead th {\n        text-align: right;\n    }\n</style>\n<table border=\"1\" class=\"dataframe\">\n  <thead>\n    <tr style=\"text-align: right;\">\n      <th></th>\n      <th>Leon</th>\n      <th>Michal</th>\n      <th>Andrzej</th>\n    </tr>\n  </thead>\n  <tbody>\n    <tr>\n      <th>a</th>\n      <td>3</td>\n      <td>4</td>\n      <td>2</td>\n    </tr>\n    <tr>\n      <th>b</th>\n      <td>4</td>\n      <td>3</td>\n      <td>5</td>\n    </tr>\n    <tr>\n      <th>c</th>\n      <td>4</td>\n      <td>5</td>\n      <td>1</td>\n    </tr>\n    <tr>\n      <th>d</th>\n      <td>1</td>\n      <td>1</td>\n      <td>5</td>\n    </tr>\n    <tr>\n      <th>e</th>\n      <td>4</td>\n      <td>5</td>\n      <td>1</td>\n    </tr>\n  </tbody>\n</table>\n</div>"
     },
     "execution_count": 11,
     "metadata": {},
     "output_type": "execute_result"
    }
   ],
   "source": [
    "reference_points = {'a': [3, 4, 2], 'b': [4, 3, 5], 'c': [4, 5, 1], 'd': [1, 1, 5], 'e': [4, 5, 1]}\n",
    "def visualisePoints():\n",
    "    Visualise = pd.DataFrame.from_dict(reference_points, orient='index', columns=[\"Leon\", \"Michal\", \"Andrzej\"])\n",
    "    return Visualise\n",
    "\n",
    "visualisePoints()"
   ],
   "metadata": {
    "collapsed": false,
    "pycharm": {
     "name": "#%%\n"
    }
   }
  },
  {
   "cell_type": "markdown",
   "source": [
    "##### Wzór:\n",
    "$\\lambda = \\sqrt{(a_{1} - a_{2})^{2} + (b_{1} - b_{2})^{2} + (c_{1} - c_{2})^{2} + (d_{1} - d_{2})^{2} + (e_{1} - e_{2})^{2}}$"
   ],
   "metadata": {
    "collapsed": false,
    "pycharm": {
     "name": "#%% md\n"
    }
   }
  },
  {
   "cell_type": "code",
   "execution_count": 12,
   "outputs": [
    {
     "name": "stdout",
     "output_type": "stream",
     "text": [
      "Leon is similar to Miachal: 2.0\n",
      "Leon is similar to Andrzej: 6.0\n",
      "Michal is similar to Andrzej: 7.483314773547883\n"
     ]
    }
   ],
   "source": [
    "def selectRange(a1, a2, b1, b2, c1, c2, d1, d2, e1, e2):\n",
    "    num1 = ((abs(a1 - a2))**2)\n",
    "    num2 = ((abs(b1 - b2))**2)\n",
    "    num3 = ((abs(c1 - c2))**2)\n",
    "    num4 = ((abs(d1 - d2))**2)\n",
    "    num5 = ((abs(e1 - e2))**2)\n",
    "    return math.sqrt(num1 + num2 + num3 + num4 + num5)\n",
    "\n",
    "def similarity(object1index, object2index):\n",
    "    return selectRange(reference_points['a'][object1index], reference_points['a'][object2index], reference_points['b'][object1index], reference_points['b'][object2index], reference_points['c'][object1index] ,reference_points['c'][object2index], reference_points['d'][object1index], reference_points['d'][object2index], reference_points['e'][object1index], reference_points['e'][object2index])\n",
    "\n",
    "print(f\"Leon is similar to Miachal: {similarity(0, 1)}\")\n",
    "print(f\"Leon is similar to Andrzej: {similarity(0, 2)}\")\n",
    "print(f\"Michal is similar to Andrzej: {similarity(1, 2)}\")"
   ],
   "metadata": {
    "collapsed": false,
    "pycharm": {
     "name": "#%%\n"
    }
   }
  }
 ],
 "metadata": {
  "kernelspec": {
   "display_name": "Python 3",
   "language": "python",
   "name": "python3"
  },
  "language_info": {
   "codemirror_mode": {
    "name": "ipython",
    "version": 2
   },
   "file_extension": ".py",
   "mimetype": "text/x-python",
   "name": "python",
   "nbconvert_exporter": "python",
   "pygments_lexer": "ipython2",
   "version": "2.7.6"
  }
 },
 "nbformat": 4,
 "nbformat_minor": 0
}