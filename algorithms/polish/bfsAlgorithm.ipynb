{
 "cells": [
  {
   "cell_type": "markdown",
   "metadata": {
    "collapsed": true,
    "pycharm": {
     "name": "#%% md\n"
    }
   },
   "source": [
    "# Przeszukiwanie wierszy (breadth-first search)\n",
    "Algorytm służący do znaleźenia najkrótszej drogi z węzła A do B w grafie nieważonym. Może również odpowiedzieć na pytanie czy istnieje droga z węzła A do węzła B.\n",
    "Poniżej przedstawiłem przykładowy prosty graf nieważony, jego wizualizacje oraz implementacje algorytmu przeszukiwania wierszy. Czas zajmuje **O(V + E)**, gdzie V oznacza liczbę wierzchołków, a E liczę krawędzi."
   ]
  },
  {
   "cell_type": "code",
   "execution_count": 1,
   "outputs": [
    {
     "name": "stdout",
     "output_type": "stream",
     "text": [
      "{'leon': ['alicja', 'bartek', 'cecylia'], 'bartek': ['janusz', 'patrycja'], 'alicja': ['patrycja'], 'cecylia': ['tamara', 'jarek'], 'janusz': [], 'patrycja': [], 'tamara': [], 'jarek': []}\n"
     ]
    }
   ],
   "source": [
    "graph = {\"leon\": [\"alicja\", \"bartek\", \"cecylia\"], \"bartek\": [\"janusz\", \"patrycja\"], \"alicja\": [\"patrycja\"], \"cecylia\": [\"tamara\", \"jarek\"], \"janusz\": [], \"patrycja\": [], \"tamara\": [], \"jarek\": []}\n",
    "print(graph)"
   ],
   "metadata": {
    "collapsed": false,
    "pycharm": {
     "name": "#%%\n"
    }
   }
  },
  {
   "cell_type": "code",
   "execution_count": 8,
   "outputs": [
    {
     "name": "stdout",
     "output_type": "stream",
     "text": [
      "leon is connected to alicja\n",
      "leon is connected to bartek\n",
      "leon is connected to cecylia\n",
      "bartek is connected to janusz\n",
      "bartek is connected to patrycja\n",
      "alicja is connected to patrycja\n",
      "cecylia is connected to tamara\n",
      "cecylia is connected to jarek\n"
     ]
    },
    {
     "data": {
      "text/plain": "<Figure size 432x288 with 1 Axes>",
      "image/png": "[encoded data removed]"
     },
     "metadata": {},
     "output_type": "display_data"
    }
   ],
   "source": [
    "import networkx as nx\n",
    "import matplotlib.pyplot as plt\n",
    "\n",
    "def visualiseGraph(graph):\n",
    "    G = nx.Graph()\n",
    "    for vertex, edges in graph.items():\n",
    "        G.add_node(\"%s\" % vertex)\n",
    "        for edge in edges:\n",
    "            G.add_node(\"%s\" % edge)\n",
    "            G.add_edge(\"%s\" % vertex, \"%s\" % edge)\n",
    "            print(f\"{vertex} is connected to {edge}\")\n",
    "\n",
    "    nx.draw(G, with_labels=True)\n",
    "    plt.show()\n",
    "\n",
    "visualiseGraph(graph)"
   ],
   "metadata": {
    "collapsed": false,
    "pycharm": {
     "name": "#%%\n"
    }
   }
  },
  {
   "cell_type": "code",
   "execution_count": null,
   "outputs": [],
   "source": [],
   "metadata": {
    "collapsed": false,
    "pycharm": {
     "name": "#%%\n"
    }
   }
  }
 ],
 "metadata": {
  "kernelspec": {
   "display_name": "Python 3",
   "language": "python",
   "name": "python3"
  },
  "language_info": {
   "codemirror_mode": {
    "name": "ipython",
    "version": 2
   },
   "file_extension": ".py",
   "mimetype": "text/x-python",
   "name": "python",
   "nbconvert_exporter": "python",
   "pygments_lexer": "ipython2",
   "version": "2.7.6"
  }
 },
 "nbformat": 4,
 "nbformat_minor": 0
}