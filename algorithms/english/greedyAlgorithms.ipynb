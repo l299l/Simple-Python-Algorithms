{
 "cells": [
  {
   "cell_type": "markdown",
   "metadata": {
    "collapsed": true,
    "pycharm": {
     "name": "#%% md\n"
    }
   },
   "source": [
    "# Greedy Algorithms\n",
    "Greedy algorithms **O(n<sup>2</sup>)** allow you to solve NP-complete problems, i.e. problems that do not have a quick solution, they can be recognized when:\n",
    "  - the algorithm works fast with a small number of elements and slows down dramatically with more elements\n",
    "  - requires \"all combinations of X\"\n",
    "  - you need to calculate \"all possible versions of X\" because it is impossible to break the problem down into smaller parts\n",
    "  - the problem can be presented as a set coverage problem\n",
    "<br>\n",
    "<p> Greedy algorithms rely on choosing always the best element. <br>\n",
    "Below is an example of solving the problem presented as a file coverage problem. </p>"
   ],
   "outputs": [],
   "execution_count": 1
  },
  {
   "cell_type": "code",
   "execution_count": 3,
   "outputs": [
    {
     "name": "stdout",
     "output_type": "stream",
     "text": [
      "We want to have all of this colors: {'silver', 'red', 'black', 'gray', 'green', 'blue'} with as little use of the sets({'favorite': {'red', 'black', 'brown', 'gold'}, 'girls': {'black', 'purple', 'pink', 'red'}, 'boys': {'black', 'orange', 'gray', 'green', 'blue'}, 'nice': {'marine', 'orange', 'yellow', 'gray', 'silver', 'gold'}, 'main': {'white', 'red', 'black', 'green', 'blue'}}) as possible.\n"
     ]
    }
   ],
   "source": [
    "colors_needed = {\"red\", \"green\", \"blue\", \"black\", \"gray\", \"silver\"}\n",
    "\n",
    "colors_sets = {\"favorite\": {\"red\", \"black\", \"gold\", \"brown\"}, \"girls\": {\"pink\", \"purple\", \"black\", \"red\"}, \"boys\": {\"green\", \"black\", \"orange\", \"gray\", \"blue\"}, \"nice\": {\"yellow\", \"silver\", \"gold\", \"orange\", \"marine\", \"gray\"},\n",
    "            \"main\": {\"white\", \"black\", \"green\", \"red\", \"blue\"}}\n",
    "\n",
    "print(f\"We want to have all of this colors: {colors_needed} with as little use of the sets({colors_sets}) as possible.\")"
   ],
   "metadata": {
    "collapsed": false,
    "pycharm": {
     "name": "#%%\n"
    }
   }
  },
  {
   "cell_type": "code",
   "execution_count": 4,
   "outputs": [
    {
     "name": "stdout",
     "output_type": "stream",
     "text": [
      "{'favorite', 'boys', 'nice'}\n"
     ]
    }
   ],
   "source": [
    "final_sets = set()\n",
    "\n",
    "while colors_needed:\n",
    "    best_set = None\n",
    "    colors_covered = set()\n",
    "\n",
    "    for set_of_colors, colors_for_set in colors_sets.items():\n",
    "        covered = colors_needed & colors_for_set\n",
    "        if len(covered) > len(colors_covered):\n",
    "            best_set = set_of_colors\n",
    "            colors_covered = covered\n",
    "\n",
    "    colors_needed -= colors_covered\n",
    "    final_sets.add(best_set)\n",
    "\n",
    "print(final_sets)"
   ],
   "metadata": {
    "collapsed": false,
    "pycharm": {
     "name": "#%%\n"
    }
   }
  }
 ],
 "metadata": {
  "kernelspec": {
   "display_name": "Python 3",
   "language": "python",
   "name": "python3"
  },
  "language_info": {
   "codemirror_mode": {
    "name": "ipython",
    "version": 2
   },
   "file_extension": ".py",
   "mimetype": "text/x-python",
   "name": "python",
   "nbconvert_exporter": "python",
   "pygments_lexer": "ipython2",
   "version": "2.7.6"
  }
 },
 "nbformat": 4,
 "nbformat_minor": 0
}