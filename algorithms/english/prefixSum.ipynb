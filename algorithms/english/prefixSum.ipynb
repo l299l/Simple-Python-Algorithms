{
 "cells": [
  {
   "cell_type": "markdown",
   "metadata": {
    "collapsed": true,
    "pycharm": {
     "name": "#%% md\n"
    }
   },
   "source": [
    "# Prefix sum\n",
    "Prefix sums is a simple algorithm that will allow you to quickly answer questions about the sums of array fragments.\n",
    "Below I have presented an example table and answering several queries for totals."
   ]
  },
  {
   "cell_type": "code",
   "execution_count": 1,
   "outputs": [
    {
     "name": "stdout",
     "output_type": "stream",
     "text": [
      "[9, 5, 3, 5, 6, 5, 6, 2, 5, 4]\n",
      "[9, 14, 17, 22, 28, 33, 39, 41, 46, 50]\n"
     ]
    }
   ],
   "source": [
    "n = 10\n",
    "tab = [9, 5, 3, 5, 6, 5, 6, 2, 5, 4]\n",
    "prefix = [0] * n\n",
    "for i in range(n):\n",
    "    if i != 0:\n",
    "        prefix[i] = prefix[i - 1] + tab[i]\n",
    "    else:\n",
    "        prefix[i] = tab[i]\n",
    "print(tab)\n",
    "print(prefix)"
   ],
   "metadata": {
    "collapsed": false,
    "pycharm": {
     "name": "#%%\n"
    }
   }
  },
  {
   "cell_type": "markdown",
   "source": [
    "### Now let's take some sums from a to b"
   ],
   "metadata": {
    "collapsed": false,
    "pycharm": {
     "name": "#%% md\n"
    }
   }
  },
  {
   "cell_type": "code",
   "execution_count": 2,
   "outputs": [
    {
     "name": "stdout",
     "output_type": "stream",
     "text": [
      "The sum of the tab array elements in the range 3 to 5 is 16\n"
     ]
    }
   ],
   "source": [
    "a = 3\n",
    "b = 5\n",
    "print(f\"The sum of the tab array elements in the range {a} to {b} is {prefix[b] -  prefix[a - 1]}\")"
   ],
   "metadata": {
    "collapsed": false,
    "pycharm": {
     "name": "#%%\n"
    }
   }
  },
  {
   "cell_type": "code",
   "execution_count": 3,
   "outputs": [
    {
     "name": "stdout",
     "output_type": "stream",
     "text": [
      "The sum of the tab array elements in the range 2 to 9 is 36\n"
     ]
    }
   ],
   "source": [
    "a = 2\n",
    "b = 9\n",
    "print(f\"The sum of the tab array elements in the range {a} to {b} is {prefix[b] -  prefix[a - 1]}\")"
   ],
   "metadata": {
    "collapsed": false,
    "pycharm": {
     "name": "#%%\n"
    }
   }
  },
  {
   "cell_type": "code",
   "execution_count": 4,
   "outputs": [
    {
     "name": "stdout",
     "output_type": "stream",
     "text": [
      "The sum of all the elements of the array is 50\n"
     ]
    }
   ],
   "source": [
    "print(f\"The sum of all the elements of the array is {prefix[n - 1]}\")"
   ],
   "metadata": {
    "collapsed": false,
    "pycharm": {
     "name": "#%%\n"
    }
   }
  },
  {
   "cell_type": "code",
   "execution_count": 4,
   "outputs": [],
   "source": [],
   "metadata": {
    "collapsed": false,
    "pycharm": {
     "name": "#%%\n"
    }
   }
  }
 ],
 "metadata": {
  "kernelspec": {
   "display_name": "Python 3",
   "language": "python",
   "name": "python3"
  },
  "language_info": {
   "codemirror_mode": {
    "name": "ipython",
    "version": 2
   },
   "file_extension": ".py",
   "mimetype": "text/x-python",
   "name": "python",
   "nbconvert_exporter": "python",
   "pygments_lexer": "ipython2",
   "version": "2.7.6"
  }
 },
 "nbformat": 4,
 "nbformat_minor": 0
}